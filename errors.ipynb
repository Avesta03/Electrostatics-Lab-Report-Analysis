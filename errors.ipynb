{
 "cells": [
  {
   "cell_type": "code",
   "execution_count": 1,
   "metadata": {},
   "outputs": [],
   "source": [
    "import numpy as np\n",
    "import pandas as pd"
   ]
  },
  {
   "cell_type": "markdown",
   "metadata": {},
   "source": [
    "**We need to find errors for the error bars in `analysis.ipynb`, so we calculate them here!!**"
   ]
  },
  {
   "cell_type": "code",
   "execution_count": 2,
   "metadata": {},
   "outputs": [],
   "source": [
    "data = {'Distance': [0.0002, 0.0003, 0.0004, 0.0005, 0.0006, 0.0007, 0.0008, 0.001],\n",
    "        'Force': [0.0082, 0.0054, 0.0035, 0.0026, 0.0021, 0.0017, 0.0012, 0.0008]}"
   ]
  },
  {
   "cell_type": "code",
   "execution_count": 3,
   "metadata": {},
   "outputs": [],
   "source": [
    "df = pd.DataFrame(data)"
   ]
  },
  {
   "cell_type": "code",
   "execution_count": 4,
   "metadata": {},
   "outputs": [],
   "source": [
    "distance_uncertainty = 0.00195\n",
    "force_uncertainty = 0.0678\n",
    "# Calculated using standard deviation formula :)"
   ]
  },
  {
   "cell_type": "code",
   "execution_count": 5,
   "metadata": {},
   "outputs": [],
   "source": [
    "df['Relative_Distance_Uncertainty'] = distance_uncertainty / df['Distance']\n",
    "df['Relative_Force_Uncertainty'] = force_uncertainty / df['Force']\n",
    "\n",
    "# Now we must propagate uncertainties to find the combined uncertainty:\n",
    "df['Combined_Uncertainty'] = df['Relative_Distance_Uncertainty'] + df['Relative_Force_Uncertainty']"
   ]
  },
  {
   "cell_type": "code",
   "execution_count": 6,
   "metadata": {},
   "outputs": [
    {
     "name": "stdout",
     "output_type": "stream",
     "text": [
      "   Distance   Force  Relative_Distance_Uncertainty  \\\n",
      "0    0.0002  0.0082                       9.750000   \n",
      "1    0.0003  0.0054                       6.500000   \n",
      "2    0.0004  0.0035                       4.875000   \n",
      "3    0.0005  0.0026                       3.900000   \n",
      "4    0.0006  0.0021                       3.250000   \n",
      "5    0.0007  0.0017                       2.785714   \n",
      "6    0.0008  0.0012                       2.437500   \n",
      "7    0.0010  0.0008                       1.950000   \n",
      "\n",
      "   Relative_Force_Uncertainty  Combined_Uncertainty  \n",
      "0                    8.268293             18.018293  \n",
      "1                   12.555556             19.055556  \n",
      "2                   19.371429             24.246429  \n",
      "3                   26.076923             29.976923  \n",
      "4                   32.285714             35.535714  \n",
      "5                   39.882353             42.668067  \n",
      "6                   56.500000             58.937500  \n",
      "7                   84.750000             86.700000  \n"
     ]
    }
   ],
   "source": [
    "print(df)"
   ]
  }
 ],
 "metadata": {
  "kernelspec": {
   "display_name": "Python 3",
   "language": "python",
   "name": "python3"
  },
  "language_info": {
   "codemirror_mode": {
    "name": "ipython",
    "version": 3
   },
   "file_extension": ".py",
   "mimetype": "text/x-python",
   "name": "python",
   "nbconvert_exporter": "python",
   "pygments_lexer": "ipython3",
   "version": "3.12.1"
  },
  "orig_nbformat": 4
 },
 "nbformat": 4,
 "nbformat_minor": 2
}
