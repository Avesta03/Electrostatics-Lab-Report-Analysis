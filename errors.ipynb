{
 "cells": [
  {
   "cell_type": "code",
   "execution_count": 7,
   "metadata": {},
   "outputs": [],
   "source": [
    "import numpy as np\n",
    "import pandas as pd"
   ]
  },
  {
   "cell_type": "markdown",
   "metadata": {},
   "source": [
    "**We need to find errors for the error bars in `analysis.ipynb`, so we calculate them here!!**"
   ]
  },
  {
   "cell_type": "code",
   "execution_count": 8,
   "metadata": {},
   "outputs": [],
   "source": [
    "data = {'Distance': [0.0002, 0.0003, 0.0004, 0.0005, 0.0006, 0.0007, 0.0008, 0.001],\n",
    "        'Force': [0.0082, 0.0054, 0.0035, 0.0026, 0.0021, 0.0017, 0.0012, 0.0008]}"
   ]
  },
  {
   "cell_type": "code",
   "execution_count": 9,
   "metadata": {},
   "outputs": [],
   "source": [
    "df = pd.DataFrame(data)"
   ]
  },
  {
   "cell_type": "code",
   "execution_count": 10,
   "metadata": {},
   "outputs": [],
   "source": [
    "distance_uncertainty = 0.000195\n",
    "force_uncertainty = 0.00678\n",
    "# Calculated using standard deviation formula :)"
   ]
  },
  {
   "cell_type": "code",
   "execution_count": 11,
   "metadata": {},
   "outputs": [],
   "source": [
    "df['Relative_Distance_Uncertainty'] = distance_uncertainty / df['Distance']\n",
    "df['Relative_Force_Uncertainty'] = force_uncertainty / df['Force']\n",
    "\n",
    "# Now we must propagate uncertainties to find the combined uncertainty:\n",
    "df['Combined_Uncertainty'] = df['Relative_Distance_Uncertainty'] + df['Relative_Force_Uncertainty']"
   ]
  },
  {
   "cell_type": "code",
   "execution_count": 12,
   "metadata": {},
   "outputs": [
    {
     "name": "stdout",
     "output_type": "stream",
     "text": [
      "   Distance   Force  Relative_Distance_Uncertainty  \\\n",
      "0    0.0002  0.0082                       0.975000   \n",
      "1    0.0003  0.0054                       0.650000   \n",
      "2    0.0004  0.0035                       0.487500   \n",
      "3    0.0005  0.0026                       0.390000   \n",
      "4    0.0006  0.0021                       0.325000   \n",
      "5    0.0007  0.0017                       0.278571   \n",
      "6    0.0008  0.0012                       0.243750   \n",
      "7    0.0010  0.0008                       0.195000   \n",
      "\n",
      "   Relative_Force_Uncertainty  Combined_Uncertainty  \n",
      "0                    0.826829              1.801829  \n",
      "1                    1.255556              1.905556  \n",
      "2                    1.937143              2.424643  \n",
      "3                    2.607692              2.997692  \n",
      "4                    3.228571              3.553571  \n",
      "5                    3.988235              4.266807  \n",
      "6                    5.650000              5.893750  \n",
      "7                    8.475000              8.670000  \n"
     ]
    }
   ],
   "source": [
    "print(df)"
   ]
  }
 ],
 "metadata": {
  "kernelspec": {
   "display_name": "Python 3",
   "language": "python",
   "name": "python3"
  },
  "language_info": {
   "codemirror_mode": {
    "name": "ipython",
    "version": 3
   },
   "file_extension": ".py",
   "mimetype": "text/x-python",
   "name": "python",
   "nbconvert_exporter": "python",
   "pygments_lexer": "ipython3",
   "version": "3.12.1"
  },
  "orig_nbformat": 4
 },
 "nbformat": 4,
 "nbformat_minor": 2
}
