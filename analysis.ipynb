{
 "cells": [
  {
   "cell_type": "code",
   "execution_count": 2,
   "metadata": {},
   "outputs": [],
   "source": [
    "import numpy as np \n",
    "import pandas as pd\n",
    "import matplotlib.pyplot as plt "
   ]
  },
  {
   "cell_type": "code",
   "execution_count": 3,
   "metadata": {},
   "outputs": [
    {
     "name": "stdout",
     "output_type": "stream",
     "text": [
      "   Distance (m)  Force (N)  2s + d (m)  1/sqrt(Force) (N)\n",
      "0        0.0002     0.0082    0.004493          11.043153\n",
      "1        0.0003     0.0054    0.004693          13.608276\n",
      "2        0.0004     0.0035    0.004893          16.903085\n",
      "3        0.0005     0.0026    0.005093          19.611614\n",
      "4        0.0006     0.0021    0.005293          21.821789\n"
     ]
    }
   ],
   "source": [
    "df = pd.read_csv('data.csv')\n",
    "print(df.head())"
   ]
  },
  {
   "cell_type": "code",
   "execution_count": null,
   "metadata": {},
   "outputs": [],
   "source": [
    "df['Distance_Error'] = [9.750000, 6.500000, 4.875000, 3.900000, 3.250000, 2.785714, 2.437500, 1.950000] \n",
    "df['Force_Error'] = [8.268293, 12.555556, 19.371429, 26.076923, 32.285714, 39.882353, 56.500000, 84.750000] "
   ]
  }
 ],
 "metadata": {
  "kernelspec": {
   "display_name": "Python 3",
   "language": "python",
   "name": "python3"
  },
  "language_info": {
   "codemirror_mode": {
    "name": "ipython",
    "version": 3
   },
   "file_extension": ".py",
   "mimetype": "text/x-python",
   "name": "python",
   "nbconvert_exporter": "python",
   "pygments_lexer": "ipython3",
   "version": "3.12.1"
  },
  "orig_nbformat": 4
 },
 "nbformat": 4,
 "nbformat_minor": 2
}
